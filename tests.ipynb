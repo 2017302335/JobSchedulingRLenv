{
 "cells": [
  {
   "cell_type": "code",
   "execution_count": 1,
   "metadata": {},
   "outputs": [],
   "source": [
    "from scheduler import Scheduler\n",
    "import pandas as pd\n",
    "import numpy as np"
   ]
  },
  {
   "cell_type": "code",
   "execution_count": 2,
   "metadata": {},
   "outputs": [
    {
     "name": "stdout",
     "output_type": "stream",
     "text": [
      "(5, 3)\n",
      "{1: 0, 2: 0, 3: 0, 4: 0, 5: 1}\n",
      "{1: 0, 2: 0, 3: 0, 4: 0, 5: 1}\n",
      "{1: 0, 2: 0, 3: 0, 4: 0, 5: 1}\n",
      "{1: 0, 2: 0, 3: 0, 4: 0, 5: 1}\n",
      "{1: 0, 2: 0, 3: 0, 4: 0, 5: 1}\n"
     ]
    }
   ],
   "source": [
    "env = Scheduler(n=4, mt=5, mr=3)\n",
    "env.render(False)"
   ]
  },
  {
   "cell_type": "code",
   "execution_count": null,
   "metadata": {
    "scrolled": true
   },
   "outputs": [],
   "source": [
    "env.step(4)"
   ]
  },
  {
   "cell_type": "code",
   "execution_count": null,
   "metadata": {},
   "outputs": [],
   "source": [
    "m = env.state['resource2']"
   ]
  },
  {
   "cell_type": "code",
   "execution_count": null,
   "metadata": {},
   "outputs": [],
   "source": [
    "import matplotlib.pyplot as plt\n",
    "# Add a table at the bottom of the axes\n",
    "colors = [[\"#56b5fd\",\"w\",\"w\",\"w\",\"w\"],[ \"#1ac3f5\",\"w\",\"w\",\"w\",\"w\"]]\n",
    "fig, ax = plt.subplots()\n",
    "ax.axis('off')\n",
    "w = 0.05\n",
    "the_table = ax.table(cellColours=colors, colWidths=[w,w,w,w,w],loc='center')\n",
    "\n",
    "fig, ax = plt.subplots()\n",
    "ax.axis('off')\n",
    "w = 0.05\n",
    "the_table = ax.table(cellColours=colors, colWidths=[w,w,w,w,w],loc='center')\n",
    "\n",
    "plt.show()"
   ]
  },
  {
   "cell_type": "code",
   "execution_count": null,
   "metadata": {},
   "outputs": [],
   "source": [
    "import matplotlib.gridspec as gridspec\n",
    "axMain = plt.subplot(4,7,1, frameon =False)\n",
    "axTable1 = plt.subplot(4,7,8, frameon =False)\n",
    "axTable2 = plt.subplot(4,7,22, frameon =False)\n",
    "\n",
    "colors1 = np.array([[\"#56b5fd\",\"w\",\"w\",\"w\",\"w\"],[ \"#38f66c\",\"w\",\"w\",\"w\",\"w\"]])\n",
    "colors2 = [[\"#f638df\",\"w\",\"w\",\"w\",\"w\"],[ \"#3891f6\",\"w\",\"w\",\"w\",\"w\"]]\n",
    "colors3 = [[\"#f6385d\",\"w\",\"w\",\"w\",\"w\"],[ \"#cb72ab\",\"w\",\"w\",\"w\",\"w\"]]\n",
    "\n",
    "axMain.axis('off')\n",
    "axTable1.axis('off')\n",
    "axTable2.axis('off')\n",
    "\n",
    "w = 0.05\n",
    "axMain.table(cellColours=colors1,loc='center')\n",
    "axTable1.table(cellColours=colors2,loc='center')\n",
    "axTable2.table(cellColours=colors3,loc='center')\n",
    "\n",
    "plt.subplots_adjust(wspace=0.2, hspace=0)\n",
    "plt.show()"
   ]
  },
  {
   "cell_type": "code",
   "execution_count": null,
   "metadata": {},
   "outputs": [],
   "source": [
    "len([1,2,3,4])"
   ]
  },
  {
   "cell_type": "code",
   "execution_count": null,
   "metadata": {},
   "outputs": [],
   "source": [
    "a = pd.DataFrame([[1,2,3],[1,4,4]])"
   ]
  },
  {
   "cell_type": "code",
   "execution_count": null,
   "metadata": {},
   "outputs": [],
   "source": [
    "a"
   ]
  },
  {
   "cell_type": "code",
   "execution_count": null,
   "metadata": {},
   "outputs": [],
   "source": [
    "for x in [[1,2]]:\n",
    "    print(x)"
   ]
  },
  {
   "cell_type": "code",
   "execution_count": null,
   "metadata": {},
   "outputs": [],
   "source": [
    "x = pd.DataFrame(np.full(colors1.shape, 'w'))\n",
    "x"
   ]
  },
  {
   "cell_type": "code",
   "execution_count": null,
   "metadata": {},
   "outputs": [],
   "source": [
    "cmap = {'w':0}\n",
    "np.array(x.applymap(lambda t : cmap[t]))"
   ]
  },
  {
   "cell_type": "code",
   "execution_count": null,
   "metadata": {},
   "outputs": [],
   "source": [
    "u = []\n",
    "[u.extend(r.unique()) for i, r in x.iterrows()]\n",
    "u = list(set(u))\n",
    "u"
   ]
  },
  {
   "cell_type": "code",
   "execution_count": null,
   "metadata": {},
   "outputs": [],
   "source": [
    "for i, t in x.items():\n",
    "    print(type(t))"
   ]
  },
  {
   "cell_type": "code",
   "execution_count": null,
   "metadata": {},
   "outputs": [],
   "source": [
    "[1,2,3]+[2,3,4]"
   ]
  },
  {
   "cell_type": "code",
   "execution_count": null,
   "metadata": {},
   "outputs": [],
   "source": [
    "dict(zip([1,1,2,6,7],[3,4,5]))"
   ]
  },
  {
   "cell_type": "code",
   "execution_count": null,
   "metadata": {},
   "outputs": [],
   "source": [
    "l = [6,1,1,2,1,3,4,5,2,1]"
   ]
  },
  {
   "cell_type": "code",
   "execution_count": null,
   "metadata": {},
   "outputs": [],
   "source": [
    "list(set(l))"
   ]
  },
  {
   "cell_type": "code",
   "execution_count": null,
   "metadata": {},
   "outputs": [],
   "source": [
    "if type(l) is not list: \n",
    "    print(\"x\")"
   ]
  },
  {
   "cell_type": "code",
   "execution_count": null,
   "metadata": {},
   "outputs": [],
   "source": []
  },
  {
   "cell_type": "code",
   "execution_count": null,
   "metadata": {},
   "outputs": [],
   "source": []
  }
 ],
 "metadata": {
  "kernelspec": {
   "display_name": "Python 3",
   "language": "python",
   "name": "python3"
  },
  "language_info": {
   "codemirror_mode": {
    "name": "ipython",
    "version": 3
   },
   "file_extension": ".py",
   "mimetype": "text/x-python",
   "name": "python",
   "nbconvert_exporter": "python",
   "pygments_lexer": "ipython3",
   "version": "3.7.3"
  }
 },
 "nbformat": 4,
 "nbformat_minor": 2
}
