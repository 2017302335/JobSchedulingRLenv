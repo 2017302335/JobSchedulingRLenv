{
 "cells": [
  {
   "cell_type": "code",
   "execution_count": 3,
   "metadata": {},
   "outputs": [],
   "source": [
    "from environment import scheduler\n",
    "import pandas as pd\n",
    "import numpy as np"
   ]
  },
  {
   "cell_type": "code",
   "execution_count": 6,
   "metadata": {},
   "outputs": [
    {
     "name": "stdout",
     "output_type": "stream",
     "text": [
      "resource1\n",
      "+----+-----+-----+-----+\n",
      "|    |   0 |   1 |   2 |\n",
      "|----+-----+-----+-----|\n",
      "|  0 |   0 |   0 |   0 |\n",
      "|  1 |   0 |   0 |   0 |\n",
      "|  2 |   0 |   0 |   0 |\n",
      "|  3 |   0 |   0 |   0 |\n",
      "|  4 |   0 |   0 |   0 |\n",
      "|  5 |   0 |   0 |   0 |\n",
      "|  6 |   0 |   0 |   0 |\n",
      "|  7 |   0 |   0 |   0 |\n",
      "|  8 |   0 |   0 |   0 |\n",
      "+----+-----+-----+-----+\n",
      "resource2\n",
      "+----+-----+-----+-----+\n",
      "|    |   0 |   1 |   2 |\n",
      "|----+-----+-----+-----|\n",
      "|  0 |   0 |   0 |   0 |\n",
      "|  1 |   0 |   0 |   0 |\n",
      "|  2 |   0 |   0 |   0 |\n",
      "|  3 |   0 |   0 |   0 |\n",
      "|  4 |   0 |   0 |   0 |\n",
      "|  5 |   0 |   0 |   0 |\n",
      "|  6 |   0 |   0 |   0 |\n",
      "|  7 |   0 |   0 |   0 |\n",
      "|  8 |   0 |   0 |   0 |\n",
      "+----+-----+-----+-----+\n",
      "job1\n",
      "+----+-----+-----+-----+\n",
      "|    |   0 |   1 |   2 |\n",
      "|----+-----+-----+-----|\n",
      "|  0 |   0 |   0 |   0 |\n",
      "|  1 |   0 |   0 |   0 |\n",
      "|  2 |   0 |   0 |   0 |\n",
      "|  3 |   0 |   0 |   0 |\n",
      "|  4 |   0 |   0 |   0 |\n",
      "|  5 |   0 |   0 |   0 |\n",
      "|  6 |   0 |   0 |   0 |\n",
      "|  7 |   0 |   0 |   0 |\n",
      "|  8 |   0 |   0 |   0 |\n",
      "+----+-----+-----+-----+\n",
      "+----+-----+-----+-----+\n",
      "|    |   0 |   1 |   2 |\n",
      "|----+-----+-----+-----|\n",
      "|  0 |   0 |   0 |   0 |\n",
      "|  1 |   0 |   0 |   0 |\n",
      "|  2 |   0 |   0 |   0 |\n",
      "|  3 |   0 |   0 |   0 |\n",
      "|  4 |   0 |   0 |   0 |\n",
      "|  5 |   0 |   0 |   0 |\n",
      "|  6 |   0 |   0 |   0 |\n",
      "|  7 |   0 |   0 |   0 |\n",
      "|  8 |   0 |   0 |   0 |\n",
      "+----+-----+-----+-----+\n",
      "job2\n",
      "+----+-----+-----+-----+\n",
      "|    |   0 |   1 |   2 |\n",
      "|----+-----+-----+-----|\n",
      "|  0 |   2 |   2 |   2 |\n",
      "|  1 |   2 |   2 |   2 |\n",
      "|  2 |   0 |   0 |   0 |\n",
      "|  3 |   0 |   0 |   0 |\n",
      "|  4 |   0 |   0 |   0 |\n",
      "|  5 |   0 |   0 |   0 |\n",
      "|  6 |   0 |   0 |   0 |\n",
      "|  7 |   0 |   0 |   0 |\n",
      "|  8 |   0 |   0 |   0 |\n",
      "+----+-----+-----+-----+\n",
      "+----+-----+-----+-----+\n",
      "|    |   0 |   1 |   2 |\n",
      "|----+-----+-----+-----|\n",
      "|  0 |   2 |   0 |   0 |\n",
      "|  1 |   2 |   0 |   0 |\n",
      "|  2 |   0 |   0 |   0 |\n",
      "|  3 |   0 |   0 |   0 |\n",
      "|  4 |   0 |   0 |   0 |\n",
      "|  5 |   0 |   0 |   0 |\n",
      "|  6 |   0 |   0 |   0 |\n",
      "|  7 |   0 |   0 |   0 |\n",
      "|  8 |   0 |   0 |   0 |\n",
      "+----+-----+-----+-----+\n",
      "job3\n",
      "+----+-----+-----+-----+\n",
      "|    |   0 |   1 |   2 |\n",
      "|----+-----+-----+-----|\n",
      "|  0 |   0 |   0 |   0 |\n",
      "|  1 |   0 |   0 |   0 |\n",
      "|  2 |   0 |   0 |   0 |\n",
      "|  3 |   0 |   0 |   0 |\n",
      "|  4 |   0 |   0 |   0 |\n",
      "|  5 |   0 |   0 |   0 |\n",
      "|  6 |   0 |   0 |   0 |\n",
      "|  7 |   0 |   0 |   0 |\n",
      "|  8 |   0 |   0 |   0 |\n",
      "+----+-----+-----+-----+\n",
      "+----+-----+-----+-----+\n",
      "|    |   0 |   1 |   2 |\n",
      "|----+-----+-----+-----|\n",
      "|  0 |   3 |   3 |   3 |\n",
      "|  1 |   3 |   3 |   3 |\n",
      "|  2 |   3 |   3 |   3 |\n",
      "|  3 |   0 |   0 |   0 |\n",
      "|  4 |   0 |   0 |   0 |\n",
      "|  5 |   0 |   0 |   0 |\n",
      "|  6 |   0 |   0 |   0 |\n",
      "|  7 |   0 |   0 |   0 |\n",
      "|  8 |   0 |   0 |   0 |\n",
      "+----+-----+-----+-----+\n",
      "backlog\n",
      "+-----+-----+-----+\n",
      "|   1 |   2 |   3 |\n",
      "|-----+-----+-----|\n",
      "|   0 |   1 |   0 |\n",
      "+-----+-----+-----+\n",
      "NOT DONE\n"
     ]
    }
   ],
   "source": [
    "env = scheduler()\n",
    "env.make(n=3, mt=3, mr=3)\n",
    "env.render()"
   ]
  },
  {
   "cell_type": "code",
   "execution_count": 7,
   "metadata": {
    "scrolled": true
   },
   "outputs": [
    {
     "name": "stdout",
     "output_type": "stream",
     "text": [
      "SYMBOLS:  2-1 \n",
      " {1: 0, 2: 1, 3: 0} \n",
      " {1: 0, 2: 0, 3: 0}\n"
     ]
    },
    {
     "data": {
      "text/plain": [
       "({'resource1':      0  1  2\n",
       "  0    2  2  2\n",
       "  1    2  2  2\n",
       "  2  2-1  0  0\n",
       "  3  2-1  0  0\n",
       "  4    0  0  0\n",
       "  5    0  0  0\n",
       "  6    0  0  0\n",
       "  7    0  0  0\n",
       "  8    0  0  0, 'resource2':      0  1  2\n",
       "  0    2  0  0\n",
       "  1    2  0  0\n",
       "  2  2-1  0  0\n",
       "  3  2-1  0  0\n",
       "  4    3  3  3\n",
       "  5    3  3  3\n",
       "  6    3  3  3\n",
       "  7    0  0  0\n",
       "  8    0  0  0, 'job1': {'r1':      0    1    2\n",
       "   0  0.0  0.0  0.0\n",
       "   1  0.0  0.0  0.0\n",
       "   2  0.0  0.0  0.0\n",
       "   3  0.0  0.0  0.0\n",
       "   4  0.0  0.0  0.0\n",
       "   5  0.0  0.0  0.0\n",
       "   6  0.0  0.0  0.0\n",
       "   7  0.0  0.0  0.0\n",
       "   8  0.0  0.0  0.0, 'r2':      0    1    2\n",
       "   0  0.0  0.0  0.0\n",
       "   1  0.0  0.0  0.0\n",
       "   2  0.0  0.0  0.0\n",
       "   3  0.0  0.0  0.0\n",
       "   4  0.0  0.0  0.0\n",
       "   5  0.0  0.0  0.0\n",
       "   6  0.0  0.0  0.0\n",
       "   7  0.0  0.0  0.0\n",
       "   8  0.0  0.0  0.0}, 'job2': {'r1':      0    1    2\n",
       "   0  0.0  0.0  0.0\n",
       "   1  0.0  0.0  0.0\n",
       "   2  0.0  0.0  0.0\n",
       "   3  0.0  0.0  0.0\n",
       "   4  0.0  0.0  0.0\n",
       "   5  0.0  0.0  0.0\n",
       "   6  0.0  0.0  0.0\n",
       "   7  0.0  0.0  0.0\n",
       "   8  0.0  0.0  0.0, 'r2':      0    1    2\n",
       "   0  0.0  0.0  0.0\n",
       "   1  0.0  0.0  0.0\n",
       "   2  0.0  0.0  0.0\n",
       "   3  0.0  0.0  0.0\n",
       "   4  0.0  0.0  0.0\n",
       "   5  0.0  0.0  0.0\n",
       "   6  0.0  0.0  0.0\n",
       "   7  0.0  0.0  0.0\n",
       "   8  0.0  0.0  0.0}, 'job3': {'r1':      0    1    2\n",
       "   0  0.0  0.0  0.0\n",
       "   1  0.0  0.0  0.0\n",
       "   2  0.0  0.0  0.0\n",
       "   3  0.0  0.0  0.0\n",
       "   4  0.0  0.0  0.0\n",
       "   5  0.0  0.0  0.0\n",
       "   6  0.0  0.0  0.0\n",
       "   7  0.0  0.0  0.0\n",
       "   8  0.0  0.0  0.0, 'r2':      0    1    2\n",
       "   0  0.0  0.0  0.0\n",
       "   1  0.0  0.0  0.0\n",
       "   2  0.0  0.0  0.0\n",
       "   3  0.0  0.0  0.0\n",
       "   4  0.0  0.0  0.0\n",
       "   5  0.0  0.0  0.0\n",
       "   6  0.0  0.0  0.0\n",
       "   7  0.0  0.0  0.0\n",
       "   8  0.0  0.0  0.0}, 'backlog': {1: 0, 2: 0, 3: 0}},\n",
       " 5.333333333333334,\n",
       " True,\n",
       " [2, 2, 3])"
      ]
     },
     "execution_count": 7,
     "metadata": {},
     "output_type": "execute_result"
    }
   ],
   "source": [
    "env.step(2)\n",
    "env.step(2)\n",
    "env.step(3)"
   ]
  },
  {
   "cell_type": "code",
   "execution_count": 11,
   "metadata": {},
   "outputs": [],
   "source": [
    "m = env.state['resource2']"
   ]
  },
  {
   "cell_type": "code",
   "execution_count": 43,
   "metadata": {},
   "outputs": [
    {
     "data": {
      "image/png": "[encoded data removed]",
      "text/plain": [
       "<Figure size 432x288 with 1 Axes>"
      ]
     },
     "metadata": {
      "needs_background": "light"
     },
     "output_type": "display_data"
    },
    {
     "data": {
      "image/png": "[encoded data removed]",
      "text/plain": [
       "<Figure size 432x288 with 1 Axes>"
      ]
     },
     "metadata": {
      "needs_background": "light"
     },
     "output_type": "display_data"
    }
   ],
   "source": [
    "import matplotlib.pyplot as plt\n",
    "# Add a table at the bottom of the axes\n",
    "colors = [[\"#56b5fd\",\"w\",\"w\",\"w\",\"w\"],[ \"#1ac3f5\",\"w\",\"w\",\"w\",\"w\"]]\n",
    "fig, ax = plt.subplots()\n",
    "ax.axis('off')\n",
    "w = 0.05\n",
    "the_table = ax.table(cellColours=colors, colWidths=[w,w,w,w,w],loc='center')\n",
    "\n",
    "fig, ax = plt.subplots()\n",
    "ax.axis('off')\n",
    "w = 0.05\n",
    "the_table = ax.table(cellColours=colors, colWidths=[w,w,w,w,w],loc='center')\n",
    "\n",
    "plt.show()"
   ]
  },
  {
   "cell_type": "code",
   "execution_count": 187,
   "metadata": {},
   "outputs": [
    {
     "data": {
      "image/png": "[encoded data removed]",
      "text/plain": [
       "<Figure size 432x288 with 3 Axes>"
      ]
     },
     "metadata": {
      "needs_background": "light"
     },
     "output_type": "display_data"
    }
   ],
   "source": [
    "import matplotlib.gridspec as gridspec\n",
    "axMain = plt.subplot(4,7,1, frameon =False)\n",
    "axTable1 = plt.subplot(4,7,8, frameon =False)\n",
    "axTable2 = plt.subplot(4,7,22, frameon =False)\n",
    "\n",
    "colors1 = np.array([[\"#56b5fd\",\"w\",\"w\",\"w\",\"w\"],[ \"#38f66c\",\"w\",\"w\",\"w\",\"w\"]])\n",
    "colors2 = [[\"#f638df\",\"w\",\"w\",\"w\",\"w\"],[ \"#3891f6\",\"w\",\"w\",\"w\",\"w\"]]\n",
    "colors3 = [[\"#f6385d\",\"w\",\"w\",\"w\",\"w\"],[ \"#cb72ab\",\"w\",\"w\",\"w\",\"w\"]]\n",
    "\n",
    "axMain.axis('off')\n",
    "axTable1.axis('off')\n",
    "axTable2.axis('off')\n",
    "\n",
    "w = 0.05\n",
    "axMain.table(cellColours=colors1,loc='center')\n",
    "axTable1.table(cellColours=colors2,loc='center')\n",
    "axTable2.table(cellColours=colors3,loc='center')\n",
    "\n",
    "plt.subplots_adjust(wspace=0.2, hspace=0)\n",
    "plt.show()"
   ]
  },
  {
   "cell_type": "code",
   "execution_count": 75,
   "metadata": {},
   "outputs": [
    {
     "data": {
      "text/plain": [
       "4"
      ]
     },
     "execution_count": 75,
     "metadata": {},
     "output_type": "execute_result"
    }
   ],
   "source": [
    "len([1,2,3,4])"
   ]
  },
  {
   "cell_type": "code",
   "execution_count": 77,
   "metadata": {},
   "outputs": [],
   "source": [
    "a = pd.DataFrame([[1,2,3],[1,4,4]])"
   ]
  },
  {
   "cell_type": "code",
   "execution_count": 82,
   "metadata": {},
   "outputs": [
    {
     "data": {
      "text/html": [
       "<div>\n",
       "<style scoped>\n",
       "    .dataframe tbody tr th:only-of-type {\n",
       "        vertical-align: middle;\n",
       "    }\n",
       "\n",
       "    .dataframe tbody tr th {\n",
       "        vertical-align: top;\n",
       "    }\n",
       "\n",
       "    .dataframe thead th {\n",
       "        text-align: right;\n",
       "    }\n",
       "</style>\n",
       "<table border=\"1\" class=\"dataframe\">\n",
       "  <thead>\n",
       "    <tr style=\"text-align: right;\">\n",
       "      <th></th>\n",
       "      <th>0</th>\n",
       "      <th>1</th>\n",
       "      <th>2</th>\n",
       "    </tr>\n",
       "  </thead>\n",
       "  <tbody>\n",
       "    <tr>\n",
       "      <th>0</th>\n",
       "      <td>1</td>\n",
       "      <td>2</td>\n",
       "      <td>3</td>\n",
       "    </tr>\n",
       "    <tr>\n",
       "      <th>1</th>\n",
       "      <td>1</td>\n",
       "      <td>4</td>\n",
       "      <td>4</td>\n",
       "    </tr>\n",
       "  </tbody>\n",
       "</table>\n",
       "</div>"
      ],
      "text/plain": [
       "   0  1  2\n",
       "0  1  2  3\n",
       "1  1  4  4"
      ]
     },
     "execution_count": 82,
     "metadata": {},
     "output_type": "execute_result"
    }
   ],
   "source": [
    "a"
   ]
  },
  {
   "cell_type": "code",
   "execution_count": 113,
   "metadata": {},
   "outputs": [
    {
     "name": "stdout",
     "output_type": "stream",
     "text": [
      "[1, 2]\n"
     ]
    }
   ],
   "source": [
    "for x in [[1,2]]:\n",
    "    print(x)"
   ]
  },
  {
   "cell_type": "code",
   "execution_count": 167,
   "metadata": {},
   "outputs": [
    {
     "data": {
      "text/html": [
       "<div>\n",
       "<style scoped>\n",
       "    .dataframe tbody tr th:only-of-type {\n",
       "        vertical-align: middle;\n",
       "    }\n",
       "\n",
       "    .dataframe tbody tr th {\n",
       "        vertical-align: top;\n",
       "    }\n",
       "\n",
       "    .dataframe thead th {\n",
       "        text-align: right;\n",
       "    }\n",
       "</style>\n",
       "<table border=\"1\" class=\"dataframe\">\n",
       "  <thead>\n",
       "    <tr style=\"text-align: right;\">\n",
       "      <th></th>\n",
       "      <th>0</th>\n",
       "      <th>1</th>\n",
       "      <th>2</th>\n",
       "      <th>3</th>\n",
       "      <th>4</th>\n",
       "    </tr>\n",
       "  </thead>\n",
       "  <tbody>\n",
       "    <tr>\n",
       "      <th>0</th>\n",
       "      <td>w</td>\n",
       "      <td>w</td>\n",
       "      <td>w</td>\n",
       "      <td>w</td>\n",
       "      <td>w</td>\n",
       "    </tr>\n",
       "    <tr>\n",
       "      <th>1</th>\n",
       "      <td>w</td>\n",
       "      <td>w</td>\n",
       "      <td>w</td>\n",
       "      <td>w</td>\n",
       "      <td>w</td>\n",
       "    </tr>\n",
       "  </tbody>\n",
       "</table>\n",
       "</div>"
      ],
      "text/plain": [
       "   0  1  2  3  4\n",
       "0  w  w  w  w  w\n",
       "1  w  w  w  w  w"
      ]
     },
     "execution_count": 167,
     "metadata": {},
     "output_type": "execute_result"
    }
   ],
   "source": [
    "x = pd.DataFrame(np.full(colors1.shape, 'w'))\n",
    "x"
   ]
  },
  {
   "cell_type": "code",
   "execution_count": 172,
   "metadata": {},
   "outputs": [
    {
     "data": {
      "text/plain": [
       "array([[0, 0, 0, 0, 0],\n",
       "       [0, 0, 0, 0, 0]])"
      ]
     },
     "execution_count": 172,
     "metadata": {},
     "output_type": "execute_result"
    }
   ],
   "source": [
    "cmap = {'w':0}\n",
    "np.array(x.applymap(lambda t : cmap[t]))"
   ]
  },
  {
   "cell_type": "code",
   "execution_count": 163,
   "metadata": {},
   "outputs": [
    {
     "data": {
      "text/plain": [
       "['w']"
      ]
     },
     "execution_count": 163,
     "metadata": {},
     "output_type": "execute_result"
    }
   ],
   "source": [
    "u = []\n",
    "[u.extend(r.unique()) for i, r in x.iterrows()]\n",
    "u = list(set(u))\n",
    "u"
   ]
  },
  {
   "cell_type": "code",
   "execution_count": 164,
   "metadata": {},
   "outputs": [
    {
     "name": "stdout",
     "output_type": "stream",
     "text": [
      "<class 'pandas.core.series.Series'>\n",
      "<class 'pandas.core.series.Series'>\n",
      "<class 'pandas.core.series.Series'>\n",
      "<class 'pandas.core.series.Series'>\n",
      "<class 'pandas.core.series.Series'>\n"
     ]
    }
   ],
   "source": [
    "for i, t in x.items():\n",
    "    print(type(t))"
   ]
  },
  {
   "cell_type": "code",
   "execution_count": 173,
   "metadata": {},
   "outputs": [
    {
     "data": {
      "text/plain": [
       "[1, 2, 3, 2, 3, 4]"
      ]
     },
     "execution_count": 173,
     "metadata": {},
     "output_type": "execute_result"
    }
   ],
   "source": [
    "[1,2,3]+[2,3,4]"
   ]
  },
  {
   "cell_type": "code",
   "execution_count": 175,
   "metadata": {},
   "outputs": [
    {
     "data": {
      "text/plain": [
       "{1: 4, 2: 5}"
      ]
     },
     "execution_count": 175,
     "metadata": {},
     "output_type": "execute_result"
    }
   ],
   "source": [
    "dict(zip([1,1,2,6,7],[3,4,5]))"
   ]
  },
  {
   "cell_type": "code",
   "execution_count": 182,
   "metadata": {},
   "outputs": [],
   "source": [
    "l = [6,1,1,2,1,3,4,5,2,1]"
   ]
  },
  {
   "cell_type": "code",
   "execution_count": 183,
   "metadata": {},
   "outputs": [
    {
     "data": {
      "text/plain": [
       "[1, 2, 3, 4, 5, 6]"
      ]
     },
     "execution_count": 183,
     "metadata": {},
     "output_type": "execute_result"
    }
   ],
   "source": [
    "list(set(l))"
   ]
  },
  {
   "cell_type": "code",
   "execution_count": 194,
   "metadata": {},
   "outputs": [],
   "source": [
    "if type(l) is not list: \n",
    "    print(\"x\")"
   ]
  },
  {
   "cell_type": "code",
   "execution_count": null,
   "metadata": {},
   "outputs": [],
   "source": []
  }
 ],
 "metadata": {
  "kernelspec": {
   "display_name": "Python [conda env:miniconda3]",
   "language": "python",
   "name": "conda-env-miniconda3-py"
  },
  "language_info": {
   "codemirror_mode": {
    "name": "ipython",
    "version": 3
   },
   "file_extension": ".py",
   "mimetype": "text/x-python",
   "name": "python",
   "nbconvert_exporter": "python",
   "pygments_lexer": "ipython3",
   "version": "3.6.6"
  }
 },
 "nbformat": 4,
 "nbformat_minor": 2
}
